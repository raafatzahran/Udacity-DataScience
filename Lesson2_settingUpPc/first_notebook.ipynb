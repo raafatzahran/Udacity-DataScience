{
 "cells": [
  {
   "cell_type": "code",
   "execution_count": 7,
   "metadata": {},
   "outputs": [
    {
     "name": "stdout",
     "output_type": "stream",
     "text": [
      "Hello world!\n"
     ]
    }
   ],
   "source": [
    "print ('Hello world!')"
   ]
  },
  {
   "cell_type": "code",
   "execution_count": 8,
   "metadata": {},
   "outputs": [
    {
     "name": "stdout",
     "output_type": "stream",
     "text": [
      "Hello Norway\n"
     ]
    }
   ],
   "source": [
    "print ('Hello Norway')"
   ]
  },
  {
   "cell_type": "markdown",
   "metadata": {},
   "source": [
    "# Header1\n",
    "## Header2\n",
    "### Header3"
   ]
  },
  {
   "cell_type": "markdown",
   "metadata": {},
   "source": [
    "[This is a link to Udacity](https://www.udacity.com)"
   ]
  },
  {
   "cell_type": "markdown",
   "metadata": {},
   "source": [
    "*this is italics text*"
   ]
  },
  {
   "cell_type": "markdown",
   "metadata": {},
   "source": [
    "**this is bold text**"
   ]
  },
  {
   "cell_type": "markdown",
   "metadata": {},
   "source": [
    "this is a inline code `string.puntuation`\n",
    "this is a block separated code\n",
    "```python\n",
    "import response\n",
    "response = requests.get('https://www.udacity.com')\n",
    "```\n",
    "\n",
    "```python\n",
    "import requests\n",
    "response = requests.get('https://www.udacity.com')\n",
    "```"
   ]
  },
  {
   "cell_type": "markdown",
   "metadata": {},
   "source": [
    "math mode\n",
    "$ \\frac{abc}{xyz}$\n",
    "\n",
    "For a math block, use double dollar signs,\n",
    "$$\n",
    "y = \\frac{a}{b+c}\n",
    "\\sum \n",
    "\\prod\n",
    "\\int \n",
    "\\alpha\n",
    "\\theta\n",
    "\\n\n",
    "\\beta \n",
    "\\gamma\n",
    "\\epsilon\n",
    "\\varepsilon\n",
    "\\phi\n",
    "\\pi\n",
    "$$\n",
    "\n",
    "\n",
    "$$\n",
    "\\sqrt[n]{abc}\n",
    "$$"
   ]
  },
  {
   "cell_type": "code",
   "execution_count": null,
   "metadata": {},
   "outputs": [],
   "source": []
  }
 ],
 "metadata": {
  "kernelspec": {
   "display_name": "Python [conda env:anaconda3]",
   "language": "python",
   "name": "conda-env-anaconda3-py"
  },
  "language_info": {
   "codemirror_mode": {
    "name": "ipython",
    "version": 3
   },
   "file_extension": ".py",
   "mimetype": "text/x-python",
   "name": "python",
   "nbconvert_exporter": "python",
   "pygments_lexer": "ipython3",
   "version": "3.6.5"
  }
 },
 "nbformat": 4,
 "nbformat_minor": 2
}
