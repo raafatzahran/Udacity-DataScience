{
 "cells": [
  {
   "cell_type": "markdown",
   "metadata": {},
   "source": [
    "# Airbnb User Sessions Data Exploration"
   ]
  },
  {
   "cell_type": "code",
   "execution_count": 1,
   "metadata": {
    "collapsed": false
   },
   "outputs": [],
   "source": [
    "%matplotlib inline\n",
    "\n",
    "import numpy as np\n",
    "import pandas as pd\n",
    "import matplotlib.pyplot as plt\n",
    "import seaborn as sns\n",
    "\n",
    "# Set figure aesthetics\n",
    "sns.set_style(\"white\", {'ytick.major.size': 10.0})\n",
    "sns.set_context(\"poster\", font_scale=1.1)"
   ]
  },
  {
   "cell_type": "code",
   "execution_count": 3,
   "metadata": {
    "collapsed": false
   },
   "outputs": [],
   "source": [
    "# Load the data into DataFrames\n",
    "path = '../data/'\n",
    "train_users = pd.read_csv(path + 'train_users.csv')\n",
    "test_users = pd.read_csv(path + 'test_users.csv')\n",
    "sessions = pd.read_csv(path + 'sessions.csv')"
   ]
  },
  {
   "cell_type": "code",
   "execution_count": 4,
   "metadata": {
    "collapsed": true
   },
   "outputs": [],
   "source": [
    "# Merge train and test users\n",
    "users = pd.concat((train_users, test_users), axis=0, ignore_index=True)"
   ]
  },
  {
   "cell_type": "code",
   "execution_count": 5,
   "metadata": {
    "collapsed": false
   },
   "outputs": [
    {
     "name": "stdout",
     "output_type": "stream",
     "text": [
      "We have 275547 users and 135484 ID's in the session set.\n"
     ]
    }
   ],
   "source": [
    "print(\"We have\", len(users), \"users and\", len(sessions.user_id.unique()), \"ID's in the session set.\")"
   ]
  },
  {
   "cell_type": "code",
   "execution_count": 6,
   "metadata": {
    "collapsed": false
   },
   "outputs": [
    {
     "name": "stdout",
     "output_type": "stream",
     "text": [
      "(10567737, 6)\n"
     ]
    }
   ],
   "source": [
    "print(sessions.shape)"
   ]
  },
  {
   "cell_type": "code",
   "execution_count": 7,
   "metadata": {
    "collapsed": false
   },
   "outputs": [
    {
     "data": {
      "text/plain": [
       "user_id            34496\n",
       "action             79626\n",
       "action_type      1126204\n",
       "action_detail    1126204\n",
       "device_type            0\n",
       "secs_elapsed      136031\n",
       "dtype: int64"
      ]
     },
     "execution_count": 7,
     "metadata": {},
     "output_type": "execute_result"
    }
   ],
   "source": [
    "sessions.isnull().sum()"
   ]
  },
  {
   "cell_type": "code",
   "execution_count": 8,
   "metadata": {
    "collapsed": false
   },
   "outputs": [
    {
     "data": {
      "text/html": [
       "<div>\n",
       "<table border=\"1\" class=\"dataframe\">\n",
       "  <thead>\n",
       "    <tr style=\"text-align: right;\">\n",
       "      <th></th>\n",
       "      <th>user_id</th>\n",
       "      <th>action</th>\n",
       "      <th>action_type</th>\n",
       "      <th>action_detail</th>\n",
       "      <th>device_type</th>\n",
       "      <th>secs_elapsed</th>\n",
       "    </tr>\n",
       "  </thead>\n",
       "  <tbody>\n",
       "    <tr>\n",
       "      <th>6715</th>\n",
       "      <td>NaN</td>\n",
       "      <td>calendar_tab_inner2</td>\n",
       "      <td>-unknown-</td>\n",
       "      <td>-unknown-</td>\n",
       "      <td>Mac Desktop</td>\n",
       "      <td>4890</td>\n",
       "    </tr>\n",
       "    <tr>\n",
       "      <th>6716</th>\n",
       "      <td>NaN</td>\n",
       "      <td>create</td>\n",
       "      <td>submit</td>\n",
       "      <td>create_user</td>\n",
       "      <td>Mac Desktop</td>\n",
       "      <td>NaN</td>\n",
       "    </tr>\n",
       "    <tr>\n",
       "      <th>6717</th>\n",
       "      <td>NaN</td>\n",
       "      <td>header_userpic</td>\n",
       "      <td>data</td>\n",
       "      <td>header_userpic</td>\n",
       "      <td>Mac Desktop</td>\n",
       "      <td>768</td>\n",
       "    </tr>\n",
       "    <tr>\n",
       "      <th>6718</th>\n",
       "      <td>NaN</td>\n",
       "      <td>calendar_tab_inner2</td>\n",
       "      <td>-unknown-</td>\n",
       "      <td>-unknown-</td>\n",
       "      <td>Mac Desktop</td>\n",
       "      <td>7578</td>\n",
       "    </tr>\n",
       "    <tr>\n",
       "      <th>19921</th>\n",
       "      <td>NaN</td>\n",
       "      <td>edit</td>\n",
       "      <td>view</td>\n",
       "      <td>edit_profile</td>\n",
       "      <td>iPad Tablet</td>\n",
       "      <td>6194</td>\n",
       "    </tr>\n",
       "  </tbody>\n",
       "</table>\n",
       "</div>"
      ],
      "text/plain": [
       "      user_id               action action_type   action_detail  device_type  \\\n",
       "6715      NaN  calendar_tab_inner2   -unknown-       -unknown-  Mac Desktop   \n",
       "6716      NaN               create      submit     create_user  Mac Desktop   \n",
       "6717      NaN       header_userpic        data  header_userpic  Mac Desktop   \n",
       "6718      NaN  calendar_tab_inner2   -unknown-       -unknown-  Mac Desktop   \n",
       "19921     NaN                 edit        view    edit_profile  iPad Tablet   \n",
       "\n",
       "       secs_elapsed  \n",
       "6715           4890  \n",
       "6716            NaN  \n",
       "6717            768  \n",
       "6718           7578  \n",
       "19921          6194  "
      ]
     },
     "execution_count": 8,
     "metadata": {},
     "output_type": "execute_result"
    }
   ],
   "source": [
    "sessions.loc[sessions['user_id'].isnull()].head()"
   ]
  },
  {
   "cell_type": "code",
   "execution_count": 9,
   "metadata": {
    "collapsed": false
   },
   "outputs": [
    {
     "data": {
      "text/plain": [
       "array([nan, 'click', 'data', 'view', 'submit', 'message_post', '-unknown-',\n",
       "       'booking_request', 'partner_callback', 'booking_response', 'modify'], dtype=object)"
      ]
     },
     "execution_count": 9,
     "metadata": {},
     "output_type": "execute_result"
    }
   ],
   "source": [
    "sessions.action_type.unique()"
   ]
  },
  {
   "cell_type": "code",
   "execution_count": 10,
   "metadata": {
    "collapsed": false
   },
   "outputs": [],
   "source": [
    "sessions['action_type'] = sessions['action_type'].replace('-unknown-', np.nan)"
   ]
  },
  {
   "cell_type": "code",
   "execution_count": 11,
   "metadata": {
    "collapsed": false
   },
   "outputs": [],
   "source": [
    "# list(sessions.action.unique())"
   ]
  },
  {
   "cell_type": "code",
   "execution_count": 12,
   "metadata": {
    "collapsed": false
   },
   "outputs": [
    {
     "data": {
      "text/plain": [
       "show              2768278\n",
       "index              843699\n",
       "search_results     725226\n",
       "personalize        706824\n",
       "search             536057\n",
       "Name: action, dtype: int64"
      ]
     },
     "execution_count": 12,
     "metadata": {},
     "output_type": "execute_result"
    }
   ],
   "source": [
    "sessions.action.value_counts().head()"
   ]
  },
  {
   "cell_type": "code",
   "execution_count": 13,
   "metadata": {
    "collapsed": false
   },
   "outputs": [
    {
     "data": {
      "text/plain": [
       "view                3560902\n",
       "data                2103770\n",
       "click               1996183\n",
       "submit               623357\n",
       "message_post          87103\n",
       "partner_callback      19132\n",
       "booking_request       18773\n",
       "modify                 1139\n",
       "booking_response          4\n",
       "Name: action_type, dtype: int64"
      ]
     },
     "execution_count": 13,
     "metadata": {},
     "output_type": "execute_result"
    }
   ],
   "source": [
    "sessions.action_type.value_counts()"
   ]
  },
  {
   "cell_type": "code",
   "execution_count": 14,
   "metadata": {
    "collapsed": false
   },
   "outputs": [
    {
     "data": {
      "text/html": [
       "<div>\n",
       "<table border=\"1\" class=\"dataframe\">\n",
       "  <thead>\n",
       "    <tr style=\"text-align: right;\">\n",
       "      <th></th>\n",
       "      <th>user_id</th>\n",
       "      <th>action</th>\n",
       "      <th>action_type</th>\n",
       "      <th>action_detail</th>\n",
       "      <th>device_type</th>\n",
       "      <th>secs_elapsed</th>\n",
       "    </tr>\n",
       "  </thead>\n",
       "  <tbody>\n",
       "    <tr>\n",
       "      <th>284946</th>\n",
       "      <td>6udv3scuxe</td>\n",
       "      <td>booking</td>\n",
       "      <td>booking_response</td>\n",
       "      <td>booking</td>\n",
       "      <td>Windows Desktop</td>\n",
       "      <td>71212</td>\n",
       "    </tr>\n",
       "    <tr>\n",
       "      <th>3657669</th>\n",
       "      <td>yxf0sm9sbw</td>\n",
       "      <td>booking</td>\n",
       "      <td>booking_response</td>\n",
       "      <td>booking</td>\n",
       "      <td>Windows Desktop</td>\n",
       "      <td>36905</td>\n",
       "    </tr>\n",
       "    <tr>\n",
       "      <th>6543673</th>\n",
       "      <td>yjbnf70oit</td>\n",
       "      <td>booking</td>\n",
       "      <td>booking_response</td>\n",
       "      <td>booking</td>\n",
       "      <td>Windows Desktop</td>\n",
       "      <td>0</td>\n",
       "    </tr>\n",
       "    <tr>\n",
       "      <th>9658676</th>\n",
       "      <td>nttj7g9av6</td>\n",
       "      <td>booking</td>\n",
       "      <td>booking_response</td>\n",
       "      <td>booking</td>\n",
       "      <td>Windows Desktop</td>\n",
       "      <td>34389</td>\n",
       "    </tr>\n",
       "  </tbody>\n",
       "</table>\n",
       "</div>"
      ],
      "text/plain": [
       "            user_id   action       action_type action_detail      device_type  \\\n",
       "284946   6udv3scuxe  booking  booking_response       booking  Windows Desktop   \n",
       "3657669  yxf0sm9sbw  booking  booking_response       booking  Windows Desktop   \n",
       "6543673  yjbnf70oit  booking  booking_response       booking  Windows Desktop   \n",
       "9658676  nttj7g9av6  booking  booking_response       booking  Windows Desktop   \n",
       "\n",
       "         secs_elapsed  \n",
       "284946          71212  \n",
       "3657669         36905  \n",
       "6543673             0  \n",
       "9658676         34389  "
      ]
     },
     "execution_count": 14,
     "metadata": {},
     "output_type": "execute_result"
    }
   ],
   "source": [
    "sessions.loc[sessions.action_type == 'booking_response']"
   ]
  },
  {
   "cell_type": "code",
   "execution_count": 15,
   "metadata": {
    "collapsed": false
   },
   "outputs": [
    {
     "data": {
      "text/plain": [
       "Mac Desktop                         3594286\n",
       "Windows Desktop                     2658539\n",
       "iPhone                              2105031\n",
       "Android Phone                        839637\n",
       "iPad Tablet                          683414\n",
       "Android App Unknown Phone/Tablet     273652\n",
       "-unknown-                            211279\n",
       "Tablet                               139886\n",
       "Linux Desktop                         28373\n",
       "Chromebook                            22348\n",
       "iPodtouch                              8198\n",
       "Windows Phone                          2047\n",
       "Blackberry                              979\n",
       "Opera Phone                              68\n",
       "Name: device_type, dtype: int64"
      ]
     },
     "execution_count": 15,
     "metadata": {},
     "output_type": "execute_result"
    }
   ],
   "source": [
    "sessions.device_type.value_counts()"
   ]
  },
  {
   "cell_type": "code",
   "execution_count": 16,
   "metadata": {
    "collapsed": false
   },
   "outputs": [],
   "source": [
    "train_users.set_index('id', inplace=True)\n",
    "sessions.set_index('user_id', inplace=True)"
   ]
  },
  {
   "cell_type": "code",
   "execution_count": 17,
   "metadata": {
    "collapsed": false
   },
   "outputs": [],
   "source": [
    "users_with_destination = train_users.loc[train_users['country_destination'] != 'NDF']\n",
    "a = users_with_destination.index.values\n",
    "b = sessions.index.unique()\n",
    "sessions_id = list(set(a).intersection(b))"
   ]
  },
  {
   "cell_type": "code",
   "execution_count": 18,
   "metadata": {
    "collapsed": false
   },
   "outputs": [],
   "source": [
    "users_with_destination_sessions = sessions.loc[sessions_id]"
   ]
  },
  {
   "cell_type": "code",
   "execution_count": 19,
   "metadata": {
    "collapsed": false
   },
   "outputs": [
    {
     "data": {
      "text/plain": [
       "show                                  547951\n",
       "personalize                           211836\n",
       "index                                 209351\n",
       "search_results                        192670\n",
       "ajax_refresh_subtotal                 157051\n",
       "similar_listings                      147387\n",
       "search                                 66580\n",
       "update                                 63860\n",
       "lookup                                 62281\n",
       "social_connections                     47225\n",
       "create                                 38650\n",
       "dashboard                              38519\n",
       "header_userpic                         36714\n",
       "reviews                                32361\n",
       "edit                                   32336\n",
       "track_page_view                        30214\n",
       "requested                              29551\n",
       "active                                 28077\n",
       "qt2                                    25918\n",
       "calendar_tab_inner2                    19438\n",
       "collections                            19343\n",
       "ajax_check_dates                       18358\n",
       "confirm_email                          17857\n",
       "identity                               17567\n",
       "ask_question                           15841\n",
       "travel_plans_current                   14481\n",
       "show_personalize                       14361\n",
       "campaigns                              13932\n",
       "listings                               12755\n",
       "other_hosting_reviews_first            11989\n",
       "                                       ...  \n",
       "approve                                    3\n",
       "zendesk_login_jwt                          3\n",
       "social-media                               2\n",
       "friend_listing                             2\n",
       "signup_weibo                               2\n",
       "print_confirmation                         2\n",
       "photography_update                         2\n",
       "has_profile_pic                            2\n",
       "payoneer_signup_complete                   2\n",
       "message                                    2\n",
       "locale_from_host                           2\n",
       "show_code                                  2\n",
       "weibo_signup_referral_finish               1\n",
       "ajax_special_offer_dates_available         1\n",
       "toggle_availability                        1\n",
       "apply                                      1\n",
       "update_message                             1\n",
       "plaxo_cb                                   1\n",
       "new_host                                   1\n",
       "views_campaign                             1\n",
       "pricing                                    1\n",
       "change_availability                        1\n",
       "desks                                      1\n",
       "envoy_bank_details_redirect                1\n",
       "preapproval                                1\n",
       "maybe_information                          1\n",
       "booking                                    1\n",
       "deauthorize                                1\n",
       "wishlists                                  1\n",
       "media_resources                            1\n",
       "Name: action, dtype: int64"
      ]
     },
     "execution_count": 19,
     "metadata": {},
     "output_type": "execute_result"
    }
   ],
   "source": [
    "users_with_destination_sessions.action.value_counts()"
   ]
  },
  {
   "cell_type": "code",
   "execution_count": null,
   "metadata": {
    "collapsed": true
   },
   "outputs": [],
   "source": [
    "# When there is a booking what is the most probable action"
   ]
  },
  {
   "cell_type": "code",
   "execution_count": null,
   "metadata": {
    "collapsed": true
   },
   "outputs": [],
   "source": [
    "# Elapsed Seconds"
   ]
  }
 ],
 "metadata": {
  "kernelspec": {
   "display_name": "Python 3",
   "language": "python",
   "name": "python3"
  },
  "language_info": {
   "codemirror_mode": {
    "name": "ipython",
    "version": 3
   },
   "file_extension": ".py",
   "mimetype": "text/x-python",
   "name": "python",
   "nbconvert_exporter": "python",
   "pygments_lexer": "ipython3",
   "version": "3.4.3"
  }
 },
 "nbformat": 4,
 "nbformat_minor": 0
}
